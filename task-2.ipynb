{
  "nbformat": 4,
  "nbformat_minor": 0,
  "metadata": {
    "colab": {
      "name": "Untitled1.ipynb",
      "provenance": []
    },
    "kernelspec": {
      "name": "python3",
      "display_name": "Python 3"
    },
    "language_info": {
      "name": "python"
    }
  },
  "cells": [
    {
      "cell_type": "markdown",
      "metadata": {
        "id": "qoURh2akjXtr"
      },
      "source": [
        "# **Author: Anmol Shinde**\n",
        "\n",
        "# **Prediction using Unsupervised ML**\n",
        "\n",
        "\n",
        "Task 2- From the given ‘Iris’ dataset, predict the optimum number of clusters\n",
        "and represent it visually."
      ]
    },
    {
      "cell_type": "markdown",
      "metadata": {
        "id": "NEhmQzX8oVk7"
      },
      "source": [
        "We first import the required libraries."
      ]
    },
    {
      "cell_type": "code",
      "metadata": {
        "id": "BG7UiB7-jU90"
      },
      "source": [
        "import matplotlib.pyplot as plt\n",
        "import pandas as pd\n",
        "from sklearn.cluster import KMeans"
      ],
      "execution_count": 1,
      "outputs": []
    },
    {
      "cell_type": "markdown",
      "metadata": {
        "id": "7LQUO8GfjWBj"
      },
      "source": [
        "After importing libraries we start with importing data.\n"
      ]
    },
    {
      "cell_type": "code",
      "metadata": {
        "colab": {
          "base_uri": "https://localhost:8080/"
        },
        "id": "xaZUCUAYjhZI",
        "outputId": "7724043e-7868-4994-f308-9ee6977f67ba"
      },
      "source": [
        "data = pd.read_csv(\"iris.csv\")\n",
        "print(data.head(10))\n",
        "print(\"Data imported successfully\")\n",
        "print(data.shape)"
      ],
      "execution_count": 6,
      "outputs": [
        {
          "output_type": "stream",
          "text": [
            "   Id  SepalLengthCm  SepalWidthCm  PetalLengthCm  PetalWidthCm      Species\n",
            "0   1            5.1           3.5            1.4           0.2  Iris-setosa\n",
            "1   2            4.9           3.0            1.4           0.2  Iris-setosa\n",
            "2   3            4.7           3.2            1.3           0.2  Iris-setosa\n",
            "3   4            4.6           3.1            1.5           0.2  Iris-setosa\n",
            "4   5            5.0           3.6            1.4           0.2  Iris-setosa\n",
            "5   6            5.4           3.9            1.7           0.4  Iris-setosa\n",
            "6   7            4.6           3.4            1.4           0.3  Iris-setosa\n",
            "7   8            5.0           3.4            1.5           0.2  Iris-setosa\n",
            "8   9            4.4           2.9            1.4           0.2  Iris-setosa\n",
            "9  10            4.9           3.1            1.5           0.1  Iris-setosa\n",
            "(150, 6)\n"
          ],
          "name": "stdout"
        }
      ]
    },
    {
      "cell_type": "markdown",
      "metadata": {
        "id": "lrjp2NaWjlqt"
      },
      "source": [
        "We drop the entities that won't be required like here we drop \"Id\"."
      ]
    },
    {
      "cell_type": "code",
      "metadata": {
        "colab": {
          "base_uri": "https://localhost:8080/"
        },
        "id": "0n7QG9Sejl8y",
        "outputId": "db79d64a-68ea-43fb-ee85-e17e839a56c7"
      },
      "source": [
        "data = data.drop(\"Id\", axis=1)\n",
        "print(data.head(10))"
      ],
      "execution_count": 7,
      "outputs": [
        {
          "output_type": "stream",
          "text": [
            "   SepalLengthCm  SepalWidthCm  PetalLengthCm  PetalWidthCm      Species\n",
            "0            5.1           3.5            1.4           0.2  Iris-setosa\n",
            "1            4.9           3.0            1.4           0.2  Iris-setosa\n",
            "2            4.7           3.2            1.3           0.2  Iris-setosa\n",
            "3            4.6           3.1            1.5           0.2  Iris-setosa\n",
            "4            5.0           3.6            1.4           0.2  Iris-setosa\n",
            "5            5.4           3.9            1.7           0.4  Iris-setosa\n",
            "6            4.6           3.4            1.4           0.3  Iris-setosa\n",
            "7            5.0           3.4            1.5           0.2  Iris-setosa\n",
            "8            4.4           2.9            1.4           0.2  Iris-setosa\n",
            "9            4.9           3.1            1.5           0.1  Iris-setosa\n"
          ],
          "name": "stdout"
        }
      ]
    },
    {
      "cell_type": "markdown",
      "metadata": {
        "id": "8clnhecqjo5J"
      },
      "source": [
        "Now we gather some information about the data"
      ]
    },
    {
      "cell_type": "code",
      "metadata": {
        "colab": {
          "base_uri": "https://localhost:8080/"
        },
        "id": "i6V02jdIjpKQ",
        "outputId": "66daac5f-33f4-4f97-9d27-75f62dc6a48d"
      },
      "source": [
        "print(data.shape)\n",
        "data.info()"
      ],
      "execution_count": 8,
      "outputs": [
        {
          "output_type": "stream",
          "text": [
            "(150, 5)\n",
            "<class 'pandas.core.frame.DataFrame'>\n",
            "RangeIndex: 150 entries, 0 to 149\n",
            "Data columns (total 5 columns):\n",
            " #   Column         Non-Null Count  Dtype  \n",
            "---  ------         --------------  -----  \n",
            " 0   SepalLengthCm  150 non-null    float64\n",
            " 1   SepalWidthCm   150 non-null    float64\n",
            " 2   PetalLengthCm  150 non-null    float64\n",
            " 3   PetalWidthCm   150 non-null    float64\n",
            " 4   Species        150 non-null    object \n",
            "dtypes: float64(4), object(1)\n",
            "memory usage: 6.0+ KB\n"
          ],
          "name": "stdout"
        }
      ]
    },
    {
      "cell_type": "markdown",
      "metadata": {
        "id": "btSmOToKjsSZ"
      },
      "source": [
        "From above we get that there are no null values.\n",
        "Now we start finding optimum number of clusters for **K Mean Classification** for which we use **Elbow Method**."
      ]
    },
    {
      "cell_type": "code",
      "metadata": {
        "id": "xnkSNryejsi4"
      },
      "source": [
        "x = data.iloc[:, [0, 1, 2, 3]].values\n",
        "wcss = []\n",
        "n = range(1, 11)\n",
        "for i in n:\n",
        "    model: KMeans = KMeans(n_clusters=i, init='k-means++', max_iter=300, n_init=10, random_state=0)\n",
        "    model.fit(x)\n",
        "    wcss.append(model.inertia_)"
      ],
      "execution_count": 9,
      "outputs": []
    },
    {
      "cell_type": "markdown",
      "metadata": {
        "id": "ZXGMjwHpjv7J"
      },
      "source": [
        "We plot the line graph to get the elbow point."
      ]
    },
    {
      "cell_type": "code",
      "metadata": {
        "colab": {
          "base_uri": "https://localhost:8080/",
          "height": 295
        },
        "id": "idk2LWbnjwQG",
        "outputId": "98cb1c8a-6127-49c8-efe4-d43a97e6fe3b"
      },
      "source": [
        "plt.plot(n, wcss)\n",
        "plt.title(\"The Elbow Method\", color=\"cyan\")\n",
        "plt.xlabel(\"Number of clusters\", color=\"k\")\n",
        "plt.ylabel(\"WCSS\", color=\"k\")\n",
        "plt.show()"
      ],
      "execution_count": 10,
      "outputs": [
        {
          "output_type": "display_data",
          "data": {
            "image/png": "[encoded data removed]",
            "text/plain": [
              "<Figure size 432x288 with 1 Axes>"
            ]
          },
          "metadata": {
            "tags": [],
            "needs_background": "light"
          }
        }
      ]
    },
    {
      "cell_type": "markdown",
      "metadata": {
        "id": "kwvH5oXejzix"
      },
      "source": [
        "We can observe in graph that we do get an elbow point.\n",
        "Thus we take **3** as the **optimum number of clusters** from above graph."
      ]
    },
    {
      "cell_type": "markdown",
      "metadata": {
        "id": "Zs-VPxXLqGCS"
      },
      "source": [
        "# **K-MeanS Model**"
      ]
    },
    {
      "cell_type": "code",
      "metadata": {
        "colab": {
          "base_uri": "https://localhost:8080/"
        },
        "id": "qXFq825Fj0CB",
        "outputId": "b6b20aa7-5569-466a-8a15-d0ff51dd8561"
      },
      "source": [
        "model = KMeans(n_clusters=3, init='k-means++', max_iter=300, n_init=10, random_state=0)\n",
        "y_pred = model.fit_predict(x)\n",
        "print(y_pred)"
      ],
      "execution_count": 11,
      "outputs": [
        {
          "output_type": "stream",
          "text": [
            "[1 1 1 1 1 1 1 1 1 1 1 1 1 1 1 1 1 1 1 1 1 1 1 1 1 1 1 1 1 1 1 1 1 1 1 1 1\n",
            " 1 1 1 1 1 1 1 1 1 1 1 1 1 2 2 0 2 2 2 2 2 2 2 2 2 2 2 2 2 2 2 2 2 2 2 2 2\n",
            " 2 2 2 0 2 2 2 2 2 2 2 2 2 2 2 2 2 2 2 2 2 2 2 2 2 2 0 2 0 0 0 0 2 0 0 0 0\n",
            " 0 0 2 2 0 0 0 0 2 0 2 0 2 0 0 2 2 0 0 0 0 0 2 0 0 0 0 2 0 0 0 2 0 0 0 2 0\n",
            " 0 2]\n"
          ],
          "name": "stdout"
        }
      ]
    },
    {
      "cell_type": "markdown",
      "metadata": {
        "id": "acBvLUUij25M"
      },
      "source": [
        "Now visualising clusters on first two columns and centroids."
      ]
    },
    {
      "cell_type": "code",
      "metadata": {
        "colab": {
          "base_uri": "https://localhost:8080/",
          "height": 390
        },
        "id": "ZmEOYc74j3Is",
        "outputId": "7330fc74-4714-4f1d-c48b-4f4762e3d8af"
      },
      "source": [
        "plt.figure(figsize=(8, 6))\n",
        "plt.xlabel(\"Sepal length\", size=10, color=\"b\")\n",
        "plt.ylabel(\"Sepal width\", size=10, color=\"b\")\n",
        "# Plotting the clusters\n",
        "plt.scatter(x[y_pred == 0, 0], x[y_pred == 0, 1], s=100, color='c', label='Iris-setosa')\n",
        "plt.scatter(x[y_pred == 1, 0], x[y_pred == 1, 1], s=100, color='yellow', label='Iris-versicolour')\n",
        "plt.scatter(x[y_pred == 2, 0], x[y_pred == 2, 1], s=100, color='green', label='Iris-virginica')\n",
        "# PLotting the Cemtroids of clusters\n",
        "plt.scatter(model.cluster_centers_[:, 0], model.cluster_centers_[:, 1], s=100, c='r', label='Centroids')\n",
        "plt.legend(loc=\"best\")\n",
        "plt.show()"
      ],
      "execution_count": 17,
      "outputs": [
        {
          "output_type": "display_data",
          "data": {
            "image/png": "[encoded data removed]",
            "text/plain": [
              "<Figure size 576x432 with 1 Axes>"
            ]
          },
          "metadata": {
            "tags": [],
            "needs_background": "light"
          }
        }
      ]
    },
    {
      "cell_type": "markdown",
      "metadata": {
        "id": "UF06RGCrkC8g"
      },
      "source": [
        "And here visualising clusters on last two columns and centroids."
      ]
    },
    {
      "cell_type": "code",
      "metadata": {
        "colab": {
          "base_uri": "https://localhost:8080/",
          "height": 388
        },
        "id": "LArODpS2kNmb",
        "outputId": "ee674a21-9116-46d1-c02c-6a8a569bd565"
      },
      "source": [
        "plt.figure(figsize=(8, 6))\n",
        "plt.xlabel(\"Petal length\", size=10, color=\"b\")\n",
        "plt.ylabel(\"Petal width\", size=10, color=\"b\")\n",
        "# Plotting the clusters\n",
        "plt.scatter(x[y_pred == 0, 2], x[y_pred == 0, 3], s=100, color='c', label='Iris-setosa')\n",
        "plt.scatter(x[y_pred == 1, 2], x[y_pred == 1, 3], s=100, color='yellow', label='Iris-versicolour')\n",
        "plt.scatter(x[y_pred == 2, 2], x[y_pred == 2, 3], s=100, color='green', label='Iris-virginica')\n",
        "# PLotting the Cemtroids of clusters\n",
        "plt.scatter(model.cluster_centers_[:, 2], model.cluster_centers_[:, 3], s=100, c='red', label='Centroids')\n",
        "plt.legend(loc=\"best\")\n",
        "plt.show()"
      ],
      "execution_count": 16,
      "outputs": [
        {
          "output_type": "display_data",
          "data": {
            "image/png": "[encoded data removed]",
            "text/plain": [
              "<Figure size 576x432 with 1 Axes>"
            ]
          },
          "metadata": {
            "tags": [],
            "needs_background": "light"
          }
        }
      ]
    },
    {
      "cell_type": "markdown",
      "metadata": {
        "id": "k-JVrYD4kY17"
      },
      "source": [
        "Thus with finding number of clusters as 3 we visualised the clusters hence completing the task.\n"
      ]
    }
  ]
}
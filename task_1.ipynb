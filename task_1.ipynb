{
  "nbformat": 4,
  "nbformat_minor": 0,
  "metadata": {
    "colab": {
      "name": "Untitled0.ipynb",
      "provenance": [],
      "collapsed_sections": []
    },
    "kernelspec": {
      "name": "python3",
      "display_name": "Python 3"
    },
    "language_info": {
      "name": "python"
    }
  },
  "cells": [
    {
      "cell_type": "markdown",
      "metadata": {
        "id": "mbkUmIucu9s6"
      },
      "source": [
        "Task 1 - Predict the percentage of an student based on the no. of study hours. It is a simple linear regression task.\n",
        "We start with importing required libraies."
      ]
    },
    {
      "cell_type": "code",
      "metadata": {
        "id": "jAig-ISPtESl"
      },
      "source": [
        "import pandas as pd\n",
        "import matplotlib.pyplot as plt\n",
        "import seaborn as sns\n",
        "from sklearn.model_selection import train_test_split\n",
        "from sklearn.linear_model import LinearRegression\n",
        "from sklearn import metrics"
      ],
      "execution_count": null,
      "outputs": []
    },
    {
      "cell_type": "markdown",
      "metadata": {
        "id": "Ps902dxBu74B"
      },
      "source": [
        "Now we import our data"
      ]
    },
    {
      "cell_type": "code",
      "metadata": {
        "id": "zsQHdKpNvBMI"
      },
      "source": [
        "url = \"http://bit.ly/w-data\"\n",
        "data = pd.read_csv(url)\n",
        "print(\"Data imported successfully\")\n",
        "print(data.head(15))"
      ],
      "execution_count": null,
      "outputs": []
    },
    {
      "cell_type": "markdown",
      "metadata": {
        "id": "VnQ7pP5_vF63"
      },
      "source": [
        "Then we study our data "
      ]
    },
    {
      "cell_type": "code",
      "metadata": {
        "id": "omuKTJfFvGUq"
      },
      "source": [
        "data.info()\n",
        "data.describe()"
      ],
      "execution_count": null,
      "outputs": []
    },
    {
      "cell_type": "markdown",
      "metadata": {
        "id": "SqXWGEbhvLGJ"
      },
      "source": [
        "Here we plot our data to check correlation between the variables."
      ]
    },
    {
      "cell_type": "code",
      "metadata": {
        "id": "9kASy-7ivLXe"
      },
      "source": [
        "data.plot(x='Hours', y='Scores', style='o')\n",
        "plt.title(\"Hours vs Scores\", fontsize=15, fontweight=\"bold\")\n",
        "plt.xlabel('Hours Studied')\n",
        "plt.ylabel('Percentage Score')\n",
        "plt.show()"
      ],
      "execution_count": null,
      "outputs": []
    },
    {
      "cell_type": "markdown",
      "metadata": {
        "id": "TImRyAjXvOjN"
      },
      "source": [
        "From above graph we can see that there is correlation. For confirmation we plot regression graph."
      ]
    },
    {
      "cell_type": "code",
      "metadata": {
        "id": "pWy8PkkTvOx9"
      },
      "source": [
        "sns.regplot(x=data[\"Hours\"], y=data[\"Scores\"], data=data, scatter_kws={'color': \"c\"}, line_kws={'color': \"b\"})\n",
        "plt.xlabel(\"Hours\")\n",
        "plt.ylabel(\"Score\")\n",
        "plt.title(\"Hours vs Scores\", fontsize=15, fontweight=\"bold\")\n",
        "plt.show()"
      ],
      "execution_count": null,
      "outputs": []
    },
    {
      "cell_type": "markdown",
      "metadata": {
        "id": "LBsip2UvvX4m"
      },
      "source": [
        "We conclude that variables are correlated. Now we train our model. For that first we split our data"
      ]
    },
    {
      "cell_type": "code",
      "metadata": {
        "id": "33SEy1RRvYPn"
      },
      "source": [
        "X = data.iloc[:, :-1].values\n",
        "y = data.iloc[:, 1].values\n",
        "X_train, X_test, y_train, y_test = train_test_split(X, y, random_state=0)"
      ],
      "execution_count": null,
      "outputs": []
    },
    {
      "cell_type": "markdown",
      "metadata": {
        "id": "M02uHLUGvcl-"
      },
      "source": [
        "Then fit data to our model."
      ]
    },
    {
      "cell_type": "code",
      "metadata": {
        "id": "6I2Tn5N2vc1m"
      },
      "source": [
        "regression = LinearRegression()\n",
        "regression.fit(X_train, y_train)\n",
        "print(\"Training complete.\")\n",
        "\n",
        "line = regression.coef_ * X + regression.intercept_\n",
        "\n"
      ],
      "execution_count": null,
      "outputs": []
    },
    {
      "cell_type": "markdown",
      "metadata": {
        "id": "kjGzxuEBvg06"
      },
      "source": [
        "Here we predict from our model and comparing actual data and predicted data."
      ]
    },
    {
      "cell_type": "code",
      "metadata": {
        "id": "VgLiaWyxvhK1"
      },
      "source": [
        "y_pred = regression.predict(X_test)  # Predicting the scores\n",
        "df = pd.DataFrame({'Actual': y_test, 'Predicted': y_pred})\n",
        "print(df)"
      ],
      "execution_count": null,
      "outputs": []
    },
    {
      "cell_type": "markdown",
      "metadata": {
        "id": "lX_0XGvJvlos"
      },
      "source": [
        "Evalauting Mean Absolute Erroe"
      ]
    },
    {
      "cell_type": "code",
      "metadata": {
        "id": "UVUc6aQfvl9U"
      },
      "source": [
        "print('Mean Absolute Error:', metrics.mean_absolute_error(y_test, y_pred))"
      ],
      "execution_count": null,
      "outputs": []
    },
    {
      "cell_type": "markdown",
      "metadata": {
        "id": "z_2cfKs7vpMM"
      },
      "source": [
        "Now from the given quetion we predict the score of a student who studies for 9.25 hours using our model."
      ]
    },
    {
      "cell_type": "code",
      "metadata": {
        "id": "TpmBlifuvpgi"
      },
      "source": [
        "hours = [9.25]\n",
        "own_pred = regression.predict([hours])\n",
        "print(\"No of Hours = {}\".format([hours]))\n",
        "print(\"Predicted Score = {}\".format(own_pred[0]))\n"
      ],
      "execution_count": null,
      "outputs": []
    },
    {
      "cell_type": "markdown",
      "metadata": {
        "id": "C995VdCNvtOL"
      },
      "source": [
        "Hence we get result using our model. Thus concluding this task."
      ]
    }
  ]
}
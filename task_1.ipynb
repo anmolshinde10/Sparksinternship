{
  "nbformat": 4,
  "nbformat_minor": 0,
  "metadata": {
    "colab": {
      "name": "Untitled0.ipynb",
      "provenance": [],
      "collapsed_sections": []
    },
    "kernelspec": {
      "name": "python3",
      "display_name": "Python 3"
    },
    "language_info": {
      "name": "python"
    }
  },
  "cells": [
    {
      "cell_type": "markdown",
      "metadata": {
        "id": "mbkUmIucu9s6"
      },
      "source": [
        "Task 1 - Predict the percentage of an student based on the no. of study hours. It is a simple linear regression task.\n",
        "We start with importing required libraies."
      ]
    },
    {
      "cell_type": "code",
      "metadata": {
        "id": "jAig-ISPtESl"
      },
      "source": [
        "import pandas as pd\n",
        "import matplotlib.pyplot as plt\n",
        "import seaborn as sns\n",
        "from sklearn.model_selection import train_test_split\n",
        "from sklearn.linear_model import LinearRegression\n",
        "from sklearn import metrics"
      ],
      "execution_count": 3,
      "outputs": []
    },
    {
      "cell_type": "markdown",
      "metadata": {
        "id": "Ps902dxBu74B"
      },
      "source": [
        "Now we import our data"
      ]
    },
    {
      "cell_type": "code",
      "metadata": {
        "colab": {
          "base_uri": "https://localhost:8080/"
        },
        "id": "zsQHdKpNvBMI",
        "outputId": "76b94b50-495f-446f-8394-2fa73ed3bb80"
      },
      "source": [
        "url = \"http://bit.ly/w-data\"\n",
        "data = pd.read_csv(url)\n",
        "print(\"Data imported successfully\")\n",
        "print(data.head(15))"
      ],
      "execution_count": 4,
      "outputs": [
        {
          "output_type": "stream",
          "text": [
            "Data imported successfully\n",
            "    Hours  Scores\n",
            "0     2.5      21\n",
            "1     5.1      47\n",
            "2     3.2      27\n",
            "3     8.5      75\n",
            "4     3.5      30\n",
            "5     1.5      20\n",
            "6     9.2      88\n",
            "7     5.5      60\n",
            "8     8.3      81\n",
            "9     2.7      25\n",
            "10    7.7      85\n",
            "11    5.9      62\n",
            "12    4.5      41\n",
            "13    3.3      42\n",
            "14    1.1      17\n"
          ],
          "name": "stdout"
        }
      ]
    },
    {
      "cell_type": "markdown",
      "metadata": {
        "id": "VnQ7pP5_vF63"
      },
      "source": [
        "Then we study our data "
      ]
    },
    {
      "cell_type": "code",
      "metadata": {
        "colab": {
          "base_uri": "https://localhost:8080/",
          "height": 446
        },
        "id": "omuKTJfFvGUq",
        "outputId": "cbf04121-5ddb-44d2-be41-a1659941942a"
      },
      "source": [
        "data.info()\n",
        "data.describe()"
      ],
      "execution_count": 5,
      "outputs": [
        {
          "output_type": "stream",
          "text": [
            "<class 'pandas.core.frame.DataFrame'>\n",
            "RangeIndex: 25 entries, 0 to 24\n",
            "Data columns (total 2 columns):\n",
            " #   Column  Non-Null Count  Dtype  \n",
            "---  ------  --------------  -----  \n",
            " 0   Hours   25 non-null     float64\n",
            " 1   Scores  25 non-null     int64  \n",
            "dtypes: float64(1), int64(1)\n",
            "memory usage: 528.0 bytes\n"
          ],
          "name": "stdout"
        },
        {
          "output_type": "execute_result",
          "data": {
            "text/html": [
              "<div>\n",
              "<style scoped>\n",
              "    .dataframe tbody tr th:only-of-type {\n",
              "        vertical-align: middle;\n",
              "    }\n",
              "\n",
              "    .dataframe tbody tr th {\n",
              "        vertical-align: top;\n",
              "    }\n",
              "\n",
              "    .dataframe thead th {\n",
              "        text-align: right;\n",
              "    }\n",
              "</style>\n",
              "<table border=\"1\" class=\"dataframe\">\n",
              "  <thead>\n",
              "    <tr style=\"text-align: right;\">\n",
              "      <th></th>\n",
              "      <th>Hours</th>\n",
              "      <th>Scores</th>\n",
              "    </tr>\n",
              "  </thead>\n",
              "  <tbody>\n",
              "    <tr>\n",
              "      <th>count</th>\n",
              "      <td>25.000000</td>\n",
              "      <td>25.000000</td>\n",
              "    </tr>\n",
              "    <tr>\n",
              "      <th>mean</th>\n",
              "      <td>5.012000</td>\n",
              "      <td>51.480000</td>\n",
              "    </tr>\n",
              "    <tr>\n",
              "      <th>std</th>\n",
              "      <td>2.525094</td>\n",
              "      <td>25.286887</td>\n",
              "    </tr>\n",
              "    <tr>\n",
              "      <th>min</th>\n",
              "      <td>1.100000</td>\n",
              "      <td>17.000000</td>\n",
              "    </tr>\n",
              "    <tr>\n",
              "      <th>25%</th>\n",
              "      <td>2.700000</td>\n",
              "      <td>30.000000</td>\n",
              "    </tr>\n",
              "    <tr>\n",
              "      <th>50%</th>\n",
              "      <td>4.800000</td>\n",
              "      <td>47.000000</td>\n",
              "    </tr>\n",
              "    <tr>\n",
              "      <th>75%</th>\n",
              "      <td>7.400000</td>\n",
              "      <td>75.000000</td>\n",
              "    </tr>\n",
              "    <tr>\n",
              "      <th>max</th>\n",
              "      <td>9.200000</td>\n",
              "      <td>95.000000</td>\n",
              "    </tr>\n",
              "  </tbody>\n",
              "</table>\n",
              "</div>"
            ],
            "text/plain": [
              "           Hours     Scores\n",
              "count  25.000000  25.000000\n",
              "mean    5.012000  51.480000\n",
              "std     2.525094  25.286887\n",
              "min     1.100000  17.000000\n",
              "25%     2.700000  30.000000\n",
              "50%     4.800000  47.000000\n",
              "75%     7.400000  75.000000\n",
              "max     9.200000  95.000000"
            ]
          },
          "metadata": {
            "tags": []
          },
          "execution_count": 5
        }
      ]
    },
    {
      "cell_type": "markdown",
      "metadata": {
        "id": "SqXWGEbhvLGJ"
      },
      "source": [
        "Here we plot our data to check correlation between the variables."
      ]
    },
    {
      "cell_type": "code",
      "metadata": {
        "colab": {
          "base_uri": "https://localhost:8080/",
          "height": 297
        },
        "id": "9kASy-7ivLXe",
        "outputId": "18ec6f39-9042-4718-a126-f362aaf1780c"
      },
      "source": [
        "data.plot(x='Hours', y='Scores', style='o')\n",
        "plt.title(\"Hours vs Scores\", fontsize=15, fontweight=\"bold\")\n",
        "plt.xlabel('Hours Studied')\n",
        "plt.ylabel('Percentage Score')\n",
        "plt.show()"
      ],
      "execution_count": 6,
      "outputs": [
        {
          "output_type": "display_data",
          "data": {
            "image/png": "[encoded data removed]",
            "text/plain": [
              "<Figure size 432x288 with 1 Axes>"
            ]
          },
          "metadata": {
            "tags": [],
            "needs_background": "light"
          }
        }
      ]
    },
    {
      "cell_type": "markdown",
      "metadata": {
        "id": "TImRyAjXvOjN"
      },
      "source": [
        "From above graph we can see that there is correlation. For confirmation we plot regression graph."
      ]
    },
    {
      "cell_type": "code",
      "metadata": {
        "colab": {
          "base_uri": "https://localhost:8080/",
          "height": 297
        },
        "id": "pWy8PkkTvOx9",
        "outputId": "eba49e82-a698-42c1-e4db-bfd1d66d7a31"
      },
      "source": [
        "sns.regplot(x=data[\"Hours\"], y=data[\"Scores\"], data=data, scatter_kws={'color': \"c\"}, line_kws={'color': \"b\"})\n",
        "plt.xlabel(\"Hours\")\n",
        "plt.ylabel(\"Score\")\n",
        "plt.title(\"Hours vs Scores\", fontsize=15, fontweight=\"bold\")\n",
        "plt.show()"
      ],
      "execution_count": 7,
      "outputs": [
        {
          "output_type": "display_data",
          "data": {
            "image/png": "[encoded data removed]",
            "text/plain": [
              "<Figure size 432x288 with 1 Axes>"
            ]
          },
          "metadata": {
            "tags": [],
            "needs_background": "light"
          }
        }
      ]
    },
    {
      "cell_type": "markdown",
      "metadata": {
        "id": "LBsip2UvvX4m"
      },
      "source": [
        "We conclude that variables are correlated. Now we train our model. For that first we split our data"
      ]
    },
    {
      "cell_type": "code",
      "metadata": {
        "id": "33SEy1RRvYPn"
      },
      "source": [
        "X = data.iloc[:, :-1].values\n",
        "y = data.iloc[:, 1].values\n",
        "X_train, X_test, y_train, y_test = train_test_split(X, y, random_state=0)"
      ],
      "execution_count": 8,
      "outputs": []
    },
    {
      "cell_type": "markdown",
      "metadata": {
        "id": "M02uHLUGvcl-"
      },
      "source": [
        "Then fit data to our model."
      ]
    },
    {
      "cell_type": "code",
      "metadata": {
        "colab": {
          "base_uri": "https://localhost:8080/"
        },
        "id": "6I2Tn5N2vc1m",
        "outputId": "b61ba189-e04c-4f7b-f11b-3593a7607fa4"
      },
      "source": [
        "regression = LinearRegression()\n",
        "regression.fit(X_train, y_train)\n",
        "print(\"Training complete.\")\n",
        "\n",
        "line = regression.coef_ * X + regression.intercept_\n",
        "\n"
      ],
      "execution_count": 9,
      "outputs": [
        {
          "output_type": "stream",
          "text": [
            "Training complete.\n"
          ],
          "name": "stdout"
        }
      ]
    },
    {
      "cell_type": "markdown",
      "metadata": {
        "id": "kjGzxuEBvg06"
      },
      "source": [
        "Here we predict from our model and comparing actual data and predicted data."
      ]
    },
    {
      "cell_type": "code",
      "metadata": {
        "colab": {
          "base_uri": "https://localhost:8080/"
        },
        "id": "VgLiaWyxvhK1",
        "outputId": "578ae403-0c96-4053-8fbc-8e2be9b55288"
      },
      "source": [
        "y_pred = regression.predict(X_test)  # Predicting the scores\n",
        "df = pd.DataFrame({'Actual': y_test, 'Predicted': y_pred})\n",
        "print(df)"
      ],
      "execution_count": 10,
      "outputs": [
        {
          "output_type": "stream",
          "text": [
            "   Actual  Predicted\n",
            "0      20  16.844722\n",
            "1      27  33.745575\n",
            "2      69  75.500624\n",
            "3      30  26.786400\n",
            "4      62  60.588106\n",
            "5      35  39.710582\n",
            "6      24  20.821393\n"
          ],
          "name": "stdout"
        }
      ]
    },
    {
      "cell_type": "markdown",
      "metadata": {
        "id": "lX_0XGvJvlos"
      },
      "source": [
        "Evalauting Mean Absolute Erroe"
      ]
    },
    {
      "cell_type": "code",
      "metadata": {
        "colab": {
          "base_uri": "https://localhost:8080/"
        },
        "id": "UVUc6aQfvl9U",
        "outputId": "2ac7e8e9-8596-4c4a-9455-37a68ca0672b"
      },
      "source": [
        "print('Mean Absolute Error:', metrics.mean_absolute_error(y_test, y_pred))"
      ],
      "execution_count": 11,
      "outputs": [
        {
          "output_type": "stream",
          "text": [
            "Mean Absolute Error: 4.130879918502482\n"
          ],
          "name": "stdout"
        }
      ]
    },
    {
      "cell_type": "markdown",
      "metadata": {
        "id": "z_2cfKs7vpMM"
      },
      "source": [
        "Now from the given quetion we predict the score of a student who studies for 9.25 hours using our model."
      ]
    },
    {
      "cell_type": "code",
      "metadata": {
        "colab": {
          "base_uri": "https://localhost:8080/"
        },
        "id": "TpmBlifuvpgi",
        "outputId": "bcb47b2f-950f-426c-813f-d6ad0febeacb"
      },
      "source": [
        "hours = [9.25]\n",
        "own_pred = regression.predict([hours])\n",
        "print(\"No of Hours = {}\".format([hours]))\n",
        "print(\"Predicted Score = {}\".format(own_pred[0]))\n"
      ],
      "execution_count": 12,
      "outputs": [
        {
          "output_type": "stream",
          "text": [
            "No of Hours = [[9.25]]\n",
            "Predicted Score = 93.89272889341652\n"
          ],
          "name": "stdout"
        }
      ]
    },
    {
      "cell_type": "markdown",
      "metadata": {
        "id": "C995VdCNvtOL"
      },
      "source": [
        "Hence we get result using our model. Thus concluding this task."
      ]
    }
  ]
}
